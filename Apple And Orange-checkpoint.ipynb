{
 "cells": [
  {
   "cell_type": "code",
   "execution_count": 15,
   "id": "c78ba3a9",
   "metadata": {},
   "outputs": [
    {
     "name": "stdout",
     "output_type": "stream",
     "text": [
      "[9, 10] [7, 8]\n"
     ]
    }
   ],
   "source": [
    "s=7\n",
    "t=10\n",
    "a=2\n",
    "b=2\n",
    "c=[]\n",
    "d=[]\n",
    "apple=[7,8,9]\n",
    "orange=[4,5,6]\n",
    "for i in apple:\n",
    "    i=i+a\n",
    "    if((i>=s)&(i<=t)):\n",
    "        c.append(i)\n",
    "for j in orange:\n",
    "    j=j+a\n",
    "    if((j>=s)&(j<=t)):\n",
    "        d.append(j)\n",
    "print(c,d)        \n",
    "        \n",
    "        \n",
    "    \n"
   ]
  },
  {
   "cell_type": "code",
   "execution_count": 16,
   "id": "ccd84127",
   "metadata": {},
   "outputs": [
    {
     "name": "stdout",
     "output_type": "stream",
     "text": [
      "12 55 66\n",
      "12 5 1\n",
      "13 32 2\n",
      "2 2 2\n",
      "1 2 3\n",
      "3\n",
      "0\n"
     ]
    }
   ],
   "source": [
    "#!/bin/python3\n",
    "\n",
    "import math\n",
    "import os\n",
    "import random\n",
    "import re\n",
    "import sys\n",
    "\n",
    "#\n",
    "# Complete the 'countApplesAndOranges' function below.\n",
    "#\n",
    "# The function accepts following parameters:\n",
    "#  1. INTEGER s\n",
    "#  2. INTEGER t\n",
    "#  3. INTEGER a\n",
    "#  4. INTEGER b\n",
    "#  5. INTEGER_ARRAY apples\n",
    "#  6. INTEGER_ARRAY oranges\n",
    "#\n",
    "\n",
    "def countApplesAndOranges(s, t, a, b, apples, oranges):\n",
    "    # Write your code here\n",
    "    count_apple = 0\n",
    "    count_orange = 0\n",
    "    \n",
    "    for i in range(len(apples)):\n",
    "        m = a + int(apples[i])\n",
    "        if s <= m <= t:\n",
    "            count_apple += 1\n",
    "    \n",
    "    for j in range(len(oranges)):\n",
    "        n = b + int(oranges[j])\n",
    "        if s <= n <= t:\n",
    "            count_orange += 1\n",
    "       \n",
    "    print(count_apple, count_orange, sep=\"\\n\")\n",
    "\n",
    "if __name__ == '__main__':\n",
    "    first_multiple_input = input().rstrip().split()\n",
    "\n",
    "    s = int(first_multiple_input[0])\n",
    "\n",
    "    t = int(first_multiple_input[1])\n",
    "\n",
    "    second_multiple_input = input().rstrip().split()\n",
    "\n",
    "    a = int(second_multiple_input[0])\n",
    "\n",
    "    b = int(second_multiple_input[1])\n",
    "\n",
    "    third_multiple_input = input().rstrip().split()\n",
    "\n",
    "    m = int(third_multiple_input[0])\n",
    "\n",
    "    n = int(third_multiple_input[1])\n",
    "\n",
    "    apples = list(map(int, input().rstrip().split()))\n",
    "\n",
    "    oranges = list(map(int, input().rstrip().split()))\n",
    "\n",
    "    countApplesAndOranges(s, t, a, b, apples, oranges)\n"
   ]
  },
  {
   "cell_type": "code",
   "execution_count": null,
   "id": "7bd8ee28",
   "metadata": {},
   "outputs": [],
   "source": []
  }
 ],
 "metadata": {
  "kernelspec": {
   "display_name": "Python 3 (ipykernel)",
   "language": "python",
   "name": "python3"
  },
  "language_info": {
   "codemirror_mode": {
    "name": "ipython",
    "version": 3
   },
   "file_extension": ".py",
   "mimetype": "text/x-python",
   "name": "python",
   "nbconvert_exporter": "python",
   "pygments_lexer": "ipython3",
   "version": "3.9.13"
  }
 },
 "nbformat": 4,
 "nbformat_minor": 5
}

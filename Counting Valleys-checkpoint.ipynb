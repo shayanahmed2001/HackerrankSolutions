{
 "cells": [
  {
   "cell_type": "code",
   "execution_count": null,
   "id": "236d4f8f",
   "metadata": {},
   "outputs": [],
   "source": [
    "#!/bin/python3\n",
    "\n",
    "import math\n",
    "import os\n",
    "import random\n",
    "import re\n",
    "import sys\n",
    "\n",
    "#\n",
    "# Complete the 'countingValleys' function below.\n",
    "#\n",
    "# The function is expected to return an INTEGER.\n",
    "# The function accepts following parameters:\n",
    "#  1. INTEGER steps\n",
    "#  2. STRING path\n",
    "#\n",
    "\n",
    "def countingValleys(steps, path):\n",
    "    # Write your code here\n",
    "    valleycount=0\n",
    "    sealevel=0\n",
    "    d={\"U\":1,\"D\":-1}\n",
    "    for i in path:\n",
    "        sealevel+=d[i]\n",
    "        if(sealevel==0 and i==\"U\"):\n",
    "            valleycount+=1\n",
    "    return valleycount        \n",
    "    \n",
    "if __name__ == '__main__':\n",
    "    fptr = open(os.environ['OUTPUT_PATH'], 'w')\n",
    "\n",
    "    steps = int(input().strip())\n",
    "\n",
    "    path = input()\n",
    "\n",
    "    result = countingValleys(steps, path)\n",
    "\n",
    "    fptr.write(str(result) + '\\n')\n",
    "\n",
    "    fptr.close()\n"
   ]
  }
 ],
 "metadata": {
  "kernelspec": {
   "display_name": "Python 3 (ipykernel)",
   "language": "python",
   "name": "python3"
  },
  "language_info": {
   "codemirror_mode": {
    "name": "ipython",
    "version": 3
   },
   "file_extension": ".py",
   "mimetype": "text/x-python",
   "name": "python",
   "nbconvert_exporter": "python",
   "pygments_lexer": "ipython3",
   "version": "3.9.13"
  }
 },
 "nbformat": 4,
 "nbformat_minor": 5
}

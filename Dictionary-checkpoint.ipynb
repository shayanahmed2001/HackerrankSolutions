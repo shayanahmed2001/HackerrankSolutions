{
 "cells": [
  {
   "cell_type": "markdown",
   "id": "6c5dbbb3",
   "metadata": {},
   "source": [
    "# Dictionary"
   ]
  },
  {
   "cell_type": "code",
   "execution_count": 12,
   "id": "af963133",
   "metadata": {},
   "outputs": [
    {
     "name": "stdout",
     "output_type": "stream",
     "text": [
      "{1: 10, 2: 20}\n",
      "{1: 10, 2: 11, 3: 21}\n",
      "{1: 10, 2: 11, 3: 21, 4: 12, 5: 22}\n"
     ]
    }
   ],
   "source": [
    "dic1={1:10,2:20}\n",
    "dic2={2:11,3:21}\n",
    "dic3={4:12,5:22}\n",
    "dic4={}\n",
    "for i in (dic1,dic2,dic3):\n",
    "    dic4.update(i)\n",
    "   \n",
    "    print(dic4)\n",
    "    "
   ]
  },
  {
   "cell_type": "code",
   "execution_count": 34,
   "id": "2df76fc9",
   "metadata": {},
   "outputs": [
    {
     "name": "stdout",
     "output_type": "stream",
     "text": [
      "Enter Any Key: 1\n",
      "Key Found\n"
     ]
    }
   ],
   "source": [
    "d = {1: 10, 2: 20, 3: 30, 4: 40, 5: 50, 6: 60}\n",
    "\n",
    "x=int(input((\"Enter Any Key: \")))\n",
    "\n",
    "if x in d:\n",
    "    print(\"Key Found\")\n",
    "else:\n",
    "    print(\"Key not Found\")"
   ]
  },
  {
   "cell_type": "code",
   "execution_count": 28,
   "id": "ef0d8f81",
   "metadata": {},
   "outputs": [
    {
     "data": {
      "text/plain": [
       "dict_values([10, 20, 30, 40, 50, 60])"
      ]
     },
     "execution_count": 28,
     "metadata": {},
     "output_type": "execute_result"
    }
   ],
   "source": [
    "d = {1: 10, 2: 20, 3: 30, 4: 40, 5: 50, 6: 60}\n",
    "\n",
    "d.keys()\n",
    "d.values()"
   ]
  },
  {
   "cell_type": "code",
   "execution_count": 29,
   "id": "4b932844",
   "metadata": {},
   "outputs": [
    {
     "data": {
      "text/plain": [
       "True"
      ]
     },
     "execution_count": 29,
     "metadata": {},
     "output_type": "execute_result"
    }
   ],
   "source": [
    "30 in d.values()"
   ]
  },
  {
   "cell_type": "code",
   "execution_count": 40,
   "id": "7b315e92",
   "metadata": {},
   "outputs": [
    {
     "name": "stdout",
     "output_type": "stream",
     "text": [
      "10\n",
      "20\n",
      "30\n",
      "40\n",
      "50\n",
      "60\n"
     ]
    }
   ],
   "source": [
    "d = {1: 10, 2: 20, 3: 30, 4: 40, 5: 50, 6: 60}\n",
    "for i in d.values():\n",
    "    print(i)"
   ]
  },
  {
   "cell_type": "code",
   "execution_count": 44,
   "id": "72716204",
   "metadata": {},
   "outputs": [
    {
     "name": "stdout",
     "output_type": "stream",
     "text": [
      "10\n",
      "20\n",
      "30\n",
      "40\n",
      "50\n",
      "60\n"
     ]
    }
   ],
   "source": [
    "for i in d:\n",
    "    print(d[i])"
   ]
  },
  {
   "cell_type": "code",
   "execution_count": 55,
   "id": "676beb1b",
   "metadata": {},
   "outputs": [],
   "source": [
    "d_1={1:10,2:20,3:30,4:40}\n",
    "d_2={6:60,7:70,8:80,9:90}\n",
    "d_3={}\n",
    "#d_3[6]=10\n",
    "for i in d_1:\n",
    "    d_3[i]= d_1[i]\n",
    "for i in d_2:\n",
    "     d_3[i]= d_2[i]\n"
   ]
  },
  {
   "cell_type": "code",
   "execution_count": 56,
   "id": "4e542b2b",
   "metadata": {},
   "outputs": [
    {
     "data": {
      "text/plain": [
       "{1: 10, 2: 20, 3: 30, 4: 40, 6: 60, 7: 70, 8: 80, 9: 90}"
      ]
     },
     "execution_count": 56,
     "metadata": {},
     "output_type": "execute_result"
    }
   ],
   "source": [
    "d_3"
   ]
  },
  {
   "cell_type": "code",
   "execution_count": 49,
   "id": "e41c2446",
   "metadata": {},
   "outputs": [],
   "source": [
    "d_1={1:10,2:20,3:30,4:40}\n",
    "d_2={6:60,7:70,8:80,9:90}\n",
    "d_3=d_1.copy()\n",
    "d_2.update(d_3)\n",
    "\n",
    "    "
   ]
  },
  {
   "cell_type": "code",
   "execution_count": null,
   "id": "06b5c605",
   "metadata": {},
   "outputs": [],
   "source": []
  }
 ],
 "metadata": {
  "kernelspec": {
   "display_name": "Python 3 (ipykernel)",
   "language": "python",
   "name": "python3"
  },
  "language_info": {
   "codemirror_mode": {
    "name": "ipython",
    "version": 3
   },
   "file_extension": ".py",
   "mimetype": "text/x-python",
   "name": "python",
   "nbconvert_exporter": "python",
   "pygments_lexer": "ipython3",
   "version": "3.9.13"
  }
 },
 "nbformat": 4,
 "nbformat_minor": 5
}

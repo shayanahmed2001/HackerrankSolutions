{
 "cells": [
  {
   "cell_type": "code",
   "execution_count": 14,
   "id": "f481d0f0",
   "metadata": {},
   "outputs": [
    {
     "name": "stdout",
     "output_type": "stream",
     "text": [
      "14\n"
     ]
    }
   ],
   "source": [
    "#!/bin/python3\n",
    "\n",
    "import math\n",
    "import os\n",
    "import random\n",
    "import re\n",
    "import sys\n",
    "\n",
    "#\n",
    "# Complete the 'bonAppetit' function below.\n",
    "#\n",
    "# The function accepts following parameters:\n",
    "#  1. INTEGER_ARRAY bill\n",
    "#  2. INTEGER k\n",
    "#  3. INTEGER b\n",
    "#\n",
    "\n",
    "def bonAppetit(bill, k, b):\n",
    "    # Write your code here\n",
    "   \n",
    "    print('Bon Appetit' if(sum(bill)-bill[k]==b*2) else (bill[k]//2))\n",
    "        \n",
    "\n",
    "if __name__ == '__main__':\n",
    "    first_multiple_input = input().rstrip().split()\n",
    "\n",
    "    n = int(first_multiple_input[0])\n",
    "\n",
    "    k = int(first_multiple_input[1])\n",
    "\n",
    "    bill = list(map(int, input().rstrip().split()))\n",
    "\n",
    "    b = int(input().strip())\n",
    "\n",
    "    bonAppetit(bill, k, b)\n"
   ]
  },
  {
   "cell_type": "code",
   "execution_count": null,
   "id": "ec315c9c",
   "metadata": {},
   "outputs": [],
   "source": []
  }
 ],
 "metadata": {
  "kernelspec": {
   "display_name": "Python 3 (ipykernel)",
   "language": "python",
   "name": "python3"
  },
  "language_info": {
   "codemirror_mode": {
    "name": "ipython",
    "version": 3
   },
   "file_extension": ".py",
   "mimetype": "text/x-python",
   "name": "python",
   "nbconvert_exporter": "python",
   "pygments_lexer": "ipython3",
   "version": "3.9.13"
  }
 },
 "nbformat": 4,
 "nbformat_minor": 5
}

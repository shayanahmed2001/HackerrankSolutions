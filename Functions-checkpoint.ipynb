{
 "cells": [
  {
   "cell_type": "code",
   "execution_count": 5,
   "id": "949518e3",
   "metadata": {},
   "outputs": [
    {
     "name": "stdout",
     "output_type": "stream",
     "text": [
      "hello\n",
      "bye\n"
     ]
    }
   ],
   "source": [
    "def f_1():\n",
    "    print('hello')\n",
    "    print('bye')\n",
    "f_1()\n",
    " "
   ]
  },
  {
   "cell_type": "code",
   "execution_count": 12,
   "id": "e5ec49fc",
   "metadata": {},
   "outputs": [
    {
     "name": "stdout",
     "output_type": "stream",
     "text": [
      "9 1\n"
     ]
    }
   ],
   "source": [
    "def add_sub(x,y):\n",
    "    c=x+y\n",
    "    d=x-y\n",
    "    return c,d\n",
    "result1,result2=add_sub(5,4)\n",
    "print(result1,result2)\n",
    "\n",
    "    "
   ]
  },
  {
   "cell_type": "code",
   "execution_count": 23,
   "id": "21e42613",
   "metadata": {},
   "outputs": [
    {
     "name": "stdout",
     "output_type": "stream",
     "text": [
      "2353139771984\n",
      "x 0\n",
      "a 10\n"
     ]
    }
   ],
   "source": [
    "def update(x):\n",
    "    x=0\n",
    "    print(\"x\",x)\n",
    "   \n",
    "a=10\n",
    "print(id(a))\n",
    "update(a)\n",
    "print('a',a)\n",
    "    "
   ]
  },
  {
   "cell_type": "code",
   "execution_count": 44,
   "id": "ed5d8200",
   "metadata": {},
   "outputs": [],
   "source": [
    "def max1(x,y):\n",
    "    if x>y:\n",
    "        return x\n",
    "        return y\n",
    "    def max_2(x,y,z):\n",
    "        if ((x>y)&(x>z)):\n",
    "            print(x)\n",
    "        else:\n",
    "                pass\n",
    "        if((y>x)&(y>z)):\n",
    "            print(y)\n",
    "        else:\n",
    "                pass\n",
    "        if((z<x)&(z<y)):\n",
    "            print(z)\n"
   ]
  },
  {
   "cell_type": "code",
   "execution_count": 51,
   "id": "451653b1",
   "metadata": {},
   "outputs": [
    {
     "name": "stdout",
     "output_type": "stream",
     "text": [
      "saad\n",
      "28\n"
     ]
    }
   ],
   "source": [
    "#formal arguments\n",
    "def person(name,age):\n",
    "    print(name)\n",
    "    print(age)\n",
    "#actual arguments\n",
    "person(age=28,name=\"saad\")    "
   ]
  },
  {
   "cell_type": "code",
   "execution_count": 52,
   "id": "012ccf01",
   "metadata": {},
   "outputs": [
    {
     "name": "stdout",
     "output_type": "stream",
     "text": [
      "125\n"
     ]
    }
   ],
   "source": [
    "def sum(a, *b):\n",
    "    c=a\n",
    "    for i in b:\n",
    "        c=c+i\n",
    "        \n",
    "    print(c)\n",
    "sum(5,6,36,78)    "
   ]
  },
  {
   "cell_type": "markdown",
   "id": "41529cf9",
   "metadata": {},
   "source": [
    "# Keyworded Argument"
   ]
  },
  {
   "cell_type": "code",
   "execution_count": 61,
   "id": "621bd970",
   "metadata": {},
   "outputs": [
    {
     "name": "stdout",
     "output_type": "stream",
     "text": [
      "saad\n",
      "{'age': 28, 'city': 'Karachi', 'mob': 922354541542}\n"
     ]
    }
   ],
   "source": [
    "def person(name, **data):\n",
    "    print(name)\n",
    "    print(data)\n",
    "person(\"saad\",age=28,city=\"Karachi\",mob=922354541542)    "
   ]
  },
  {
   "cell_type": "code",
   "execution_count": 62,
   "id": "d0aa4c86",
   "metadata": {},
   "outputs": [
    {
     "name": "stdout",
     "output_type": "stream",
     "text": [
      "navin\n",
      "age 22\n",
      "city karachi\n",
      "mob 9212001055\n"
     ]
    }
   ],
   "source": [
    "def person(name,**data):\n",
    "    print(name)\n",
    "    for i,j in data.items():\n",
    "        print(i,j)\n",
    "person(\"navin\",age=22,city=\"karachi\",mob=9212001055)        "
   ]
  },
  {
   "cell_type": "markdown",
   "id": "11c40884",
   "metadata": {},
   "source": [
    "# Global"
   ]
  },
  {
   "cell_type": "code",
   "execution_count": 72,
   "id": "1a00c554",
   "metadata": {},
   "outputs": [
    {
     "name": "stdout",
     "output_type": "stream",
     "text": [
      "15\n",
      "15\n"
     ]
    }
   ],
   "source": [
    "a=10\n",
    "def something():\n",
    "    global a\n",
    "    a=15\n",
    "    print(a)\n",
    "something()\n",
    "print(a)"
   ]
  },
  {
   "cell_type": "code",
   "execution_count": 78,
   "id": "0a11b5dc",
   "metadata": {},
   "outputs": [
    {
     "name": "stdout",
     "output_type": "stream",
     "text": [
      "2353139771984\n",
      "2353139771984\n"
     ]
    }
   ],
   "source": [
    "a=10\n",
    "print(id(a))\n",
    "def something():\n",
    "    x=globals()['a']\n",
    "    a=15\n",
    "    print(id(x))\n",
    "    globals()['a']=15\n",
    "something()\n"
   ]
  },
  {
   "cell_type": "markdown",
   "id": "2a9270fe",
   "metadata": {},
   "source": [
    "# Pass List"
   ]
  },
  {
   "cell_type": "code",
   "execution_count": 86,
   "id": "b7ccc691",
   "metadata": {
    "scrolled": true
   },
   "outputs": [
    {
     "name": "stdout",
     "output_type": "stream",
     "text": [
      "Even:5 and Odd:2\n"
     ]
    }
   ],
   "source": [
    "def count(lst):\n",
    "    even=0\n",
    "    odd=0\n",
    "    for i in lst:\n",
    "        if i%2==0:\n",
    "            even+=1\n",
    "        else:\n",
    "            odd+=1\n",
    "    return even,odd\n",
    "lst=[20,12,12,15,4,55,64]\n",
    "even,odd=count(lst)\n",
    "print(\"Even:{} and Odd:{}\".format(even,odd))\n"
   ]
  },
  {
   "cell_type": "markdown",
   "id": "c01c850b",
   "metadata": {},
   "source": [
    "# Fibonacci Sequence"
   ]
  },
  {
   "cell_type": "code",
   "execution_count": 100,
   "id": "43e299d3",
   "metadata": {},
   "outputs": [
    {
     "name": "stdout",
     "output_type": "stream",
     "text": [
      "0\n"
     ]
    }
   ],
   "source": [
    "def fib(n):\n",
    "    a=0\n",
    "    b=1\n",
    "    if n==1:\n",
    "        print(a)\n",
    "    else:\n",
    "        print(a)\n",
    "        print(b)\n",
    "    for i in range(2,n):\n",
    "        c=a+b\n",
    "        a=b\n",
    "        b=c\n",
    "        print(c)\n",
    "fib(1)    \n",
    "    "
   ]
  },
  {
   "cell_type": "markdown",
   "id": "5ef977aa",
   "metadata": {},
   "source": [
    "# Factorial Of a Number"
   ]
  },
  {
   "cell_type": "code",
   "execution_count": 114,
   "id": "b1d3be18",
   "metadata": {},
   "outputs": [
    {
     "name": "stdout",
     "output_type": "stream",
     "text": [
      "1\n"
     ]
    }
   ],
   "source": []
  },
  {
   "cell_type": "code",
   "execution_count": null,
   "id": "9e49ff14",
   "metadata": {},
   "outputs": [],
   "source": []
  }
 ],
 "metadata": {
  "kernelspec": {
   "display_name": "Python 3 (ipykernel)",
   "language": "python",
   "name": "python3"
  },
  "language_info": {
   "codemirror_mode": {
    "name": "ipython",
    "version": 3
   },
   "file_extension": ".py",
   "mimetype": "text/x-python",
   "name": "python",
   "nbconvert_exporter": "python",
   "pygments_lexer": "ipython3",
   "version": "3.9.13"
  }
 },
 "nbformat": 4,
 "nbformat_minor": 5
}

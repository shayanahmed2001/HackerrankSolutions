{
 "cells": [
  {
   "cell_type": "code",
   "execution_count": 1,
   "id": "9e02158b",
   "metadata": {},
   "outputs": [
    {
     "name": "stdout",
     "output_type": "stream",
     "text": [
      "\n",
      "* \n",
      "* * \n",
      "* * * \n",
      "* * * * \n",
      "* * * * * \n",
      "* * * * \n",
      "* * * \n",
      "* * \n",
      "* \n"
     ]
    }
   ],
   "source": [
    "\n",
    "for i in range(5):\n",
    "    for j in range(i):\n",
    "        print ('* ', end=\"\")\n",
    "    print()\n",
    "\n",
    "for i in range(5):\n",
    "    for j in range(5-i):\n",
    "        print('* ', end=\"\")\n",
    "    print()"
   ]
  },
  {
   "cell_type": "code",
   "execution_count": 34,
   "id": "2b5df9fc",
   "metadata": {},
   "outputs": [
    {
     "name": "stdout",
     "output_type": "stream",
     "text": [
      "[[37, 299, 116, 46, 174, 52, 386, 231, 33, 377], [332, 334, 155, 215, 230, 416, 1, 149, 69, 124], [450, 212, 191, 21, 490, 190, 152, 490, 383, 113], [423, 480, 139, 18, 143, 160, 176, 138, 173, 445], [101, 372, 476, 278, 90, 163, 101, 65, 447, 291], [145, 245, 315, 230, 323, 8, 88, 112, 479, 384], [294, 344, 3, 118, 239, 489, 117, 256, 355, 336], [263, 483, 19, 260, 391, 409, 337, 480, 24, 246], [144, 430, 486, 469, 488, 96, 127, 485, 123, 53], [322, 363, 258, 127, 310, 51, 251, 194, 217, 262]]\n"
     ]
    }
   ],
   "source": [
    "import random\n",
    "m_1=[]\n",
    "for i in range(1000):\n",
    "    m_1.append([])\n",
    "    for j in range(1000):\n",
    "        m_1[i].append(random.randint(0,500));\n",
    "    \n",
    "m_2=[]\n",
    "for i in range(10):\n",
    "    m_2.append([])\n",
    "    for j in range(10):\n",
    "        m_2[i].append(random.randint(0,500));\n",
    "    \n",
    "print(m_2)\n",
    "        "
   ]
  },
  {
   "cell_type": "code",
   "execution_count": 8,
   "id": "746f6a60",
   "metadata": {},
   "outputs": [],
   "source": [
    "a=[]\n",
    "a.append([])\n",
    "a[0].append(1)"
   ]
  },
  {
   "cell_type": "code",
   "execution_count": 23,
   "id": "737bd407",
   "metadata": {},
   "outputs": [
    {
     "name": "stdout",
     "output_type": "stream",
     "text": [
      "[[122, 267, 478, 639, 761, 941, 1139, 1302, 1453, 1652], [146, 331, 530, 710, 852, 1054, 1249, 1440, 1620, 1853], [167, 312, 511, 701, 850, 1077, 1273, 1493, 1631, 1885], [180, 359, 522, 698, 828, 1032, 1167, 1360, 1559, 1795], [157, 278, 426, 602, 741, 930, 1084, 1304, 1437, 1664], [219, 472, 646, 846, 1045, 1272, 1513, 1734, 2009, 2309], [206, 392, 614, 790, 952, 1112, 1352, 1562, 1798, 2060], [153, 315, 420, 556, 706, 903, 1037, 1242, 1416, 1613], [147, 328, 489, 592, 730, 897, 1103, 1269, 1484, 1676], [156, 325, 476, 640, 752, 975, 1083, 1264, 1426, 1640]]\n"
     ]
    }
   ],
   "source": [
    "import random\n",
    "def listgen():\n",
    "    m=[]\n",
    "    for i in range(10):\n",
    "        m.append([])\n",
    "        for j in range(10):\n",
    "            m[i].append(random.randint(0,9))\n",
    "    return m\n",
    "\n",
    "a=listgen()\n",
    "b=listgen()\n",
    "mul=[]\n",
    "\n",
    "for i in range(10):\n",
    "    c=0\n",
    "    mul.append([])\n",
    "    for j in range(10):\n",
    "        for k in range(10):\n",
    "            c=c+(a[i][k]*b[k][j])\n",
    "        mul[i].append(c)\n",
    "print(mul)"
   ]
  },
  {
   "cell_type": "markdown",
   "id": "06f61371",
   "metadata": {},
   "source": [
    "# While loop\n"
   ]
  },
  {
   "cell_type": "code",
   "execution_count": 35,
   "id": "cea3de3b",
   "metadata": {},
   "outputs": [
    {
     "name": "stdout",
     "output_type": "stream",
     "text": [
      "telusko\n"
     ]
    }
   ],
   "source": [
    "print(\"telusko\")"
   ]
  },
  {
   "cell_type": "code",
   "execution_count": 42,
   "id": "17b8c5bb",
   "metadata": {},
   "outputs": [
    {
     "name": "stdout",
     "output_type": "stream",
     "text": [
      "parveen Junaid MashaAllah MashaAllah\n",
      "parveen Junaid MashaAllah MashaAllah\n",
      "parveen Junaid MashaAllah MashaAllah\n",
      "parveen Junaid MashaAllah MashaAllah\n",
      "parveen Junaid MashaAllah MashaAllah\n"
     ]
    }
   ],
   "source": [
    "i = 1;\n",
    "while i<=5:\n",
    "    print(\"parveen Junaid MashaAllah MashaAllah\")\n",
    "    i=i+1"
   ]
  },
  {
   "cell_type": "code",
   "execution_count": null,
   "id": "1ac0f3ae",
   "metadata": {},
   "outputs": [],
   "source": [
    "i=5\n",
    "j=5\n",
    "while i>=1:\n",
    "    print(\"parveen Junaid MashaAllah MashaAllah\",i)\n",
    "    while j>=4:\n",
    "        print(\"rocks\")\n",
    "        j=j+1\n",
    "    i=i-1"
   ]
  },
  {
   "cell_type": "markdown",
   "id": "72b50e8d",
   "metadata": {},
   "source": [
    "# For loop"
   ]
  },
  {
   "cell_type": "code",
   "execution_count": 71,
   "id": "249d838f",
   "metadata": {},
   "outputs": [
    {
     "name": "stdout",
     "output_type": "stream",
     "text": [
      "xavier\n",
      "65\n",
      "2.5\n"
     ]
    }
   ],
   "source": [
    "x=[\"xavier\",65,2.50]\n",
    "for i in x:\n",
    "    print(i)"
   ]
  },
  {
   "cell_type": "code",
   "execution_count": 83,
   "id": "6fbab63e",
   "metadata": {},
   "outputs": [
    {
     "name": "stdout",
     "output_type": "stream",
     "text": [
      "11\n",
      "12\n",
      "13\n",
      "14\n",
      "15\n",
      "16\n",
      "17\n",
      "18\n",
      "19\n",
      "20\n"
     ]
    }
   ],
   "source": [
    "for i in range(11,21,1):\n",
    "    #if(i%5==0):\n",
    "        print(i)"
   ]
  },
  {
   "cell_type": "code",
   "execution_count": null,
   "id": "b0a8068c",
   "metadata": {},
   "outputs": [],
   "source": []
  }
 ],
 "metadata": {
  "kernelspec": {
   "display_name": "Python 3 (ipykernel)",
   "language": "python",
   "name": "python3"
  },
  "language_info": {
   "codemirror_mode": {
    "name": "ipython",
    "version": 3
   },
   "file_extension": ".py",
   "mimetype": "text/x-python",
   "name": "python",
   "nbconvert_exporter": "python",
   "pygments_lexer": "ipython3",
   "version": "3.9.13"
  }
 },
 "nbformat": 4,
 "nbformat_minor": 5
}

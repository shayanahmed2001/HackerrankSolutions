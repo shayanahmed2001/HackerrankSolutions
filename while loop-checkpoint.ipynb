{
 "cells": [
  {
   "cell_type": "code",
   "execution_count": 5,
   "id": "caf11524",
   "metadata": {},
   "outputs": [
    {
     "name": "stdout",
     "output_type": "stream",
     "text": [
      "Enter the number: 38\n",
      "Enter the number: 38\n",
      "38\n",
      "Enter the number: 29\n",
      "29\n",
      "Enter the number: 2993\n",
      "2993\n",
      "Done with the loop\n"
     ]
    }
   ],
   "source": [
    "i=int(input(\"Enter the number: \"))\n",
    "while(i<=38):\n",
    "    i=int(input(\"Enter the number: \"))\n",
    "    print(i)\n",
    "    \n",
    "    \n",
    "    \n",
    "print(\"Done with the loop\")    "
   ]
  },
  {
   "cell_type": "code",
   "execution_count": 4,
   "id": "f013914a",
   "metadata": {},
   "outputs": [
    {
     "name": "stdout",
     "output_type": "stream",
     "text": [
      "5\n",
      "4\n",
      "3\n",
      "2\n",
      "1\n",
      "0\n",
      "I am inside else\n"
     ]
    }
   ],
   "source": [
    "count=5\n",
    "while(count>=0):\n",
    "    print(count)\n",
    "    count=count-1\n",
    "else:\n",
    "    print(\"I am inside else\")"
   ]
  },
  {
   "cell_type": "code",
   "execution_count": 2,
   "id": "22c2403d",
   "metadata": {},
   "outputs": [
    {
     "name": "stdout",
     "output_type": "stream",
     "text": [
      "Generated number: 10\n",
      "Generated number: 8\n",
      "Generated number: 1\n",
      "Generated number: 2\n",
      "Generated number: 1\n",
      "Generated number: 8\n",
      "Generated number: 7\n",
      "Found lucky number 7 !\n"
     ]
    }
   ],
   "source": [
    "import random\n",
    "\n",
    "number = 0\n",
    "while number != 7:\n",
    "    number = random.randint(1, 10)\n",
    "    print(\"Generated number:\", number)\n",
    "print(\"Found lucky number\", number, \"!\")"
   ]
  },
  {
   "cell_type": "code",
   "execution_count": null,
   "id": "68d505be",
   "metadata": {},
   "outputs": [],
   "source": []
  }
 ],
 "metadata": {
  "kernelspec": {
   "display_name": "Python 3 (ipykernel)",
   "language": "python",
   "name": "python3"
  },
  "language_info": {
   "codemirror_mode": {
    "name": "ipython",
    "version": 3
   },
   "file_extension": ".py",
   "mimetype": "text/x-python",
   "name": "python",
   "nbconvert_exporter": "python",
   "pygments_lexer": "ipython3",
   "version": "3.9.13"
  }
 },
 "nbformat": 4,
 "nbformat_minor": 5
}
